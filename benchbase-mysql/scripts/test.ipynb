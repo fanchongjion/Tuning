{
 "cells": [
  {
   "cell_type": "code",
   "execution_count": 2,
   "metadata": {},
   "outputs": [
    {
     "name": "stdout",
     "output_type": "stream",
     "text": [
      "open_tables 206 104\n",
      "innodb_log_write_requests 13788 1254\n",
      "key_read_requests 16 0\n",
      "open_files 10 0\n",
      "uptime_since_flush_status 4050 225\n",
      "innodb_data_fsyncs 4499 2256\n",
      "performance_schema_file_instances_lost 4 0\n",
      "innodb_data_written 26116608 6948352\n",
      "key_reads 2 0\n",
      "queries 820772 416130\n",
      "innodb_buffer_pool_pages_data 2481 966\n",
      "innodb_os_log_written 10096128 2306048\n",
      "innodb_dblwr_pages_written 0 123\n",
      "key_blocks_unused 6696 6698\n",
      "innodb_buffer_pool_bytes_dirty 2736128 2637824\n",
      "innodb_buffer_pool_reads 2059 899\n",
      "key_blocks_used 2 0\n",
      "threads_created 52 1\n",
      "max_used_connections 24 1\n",
      "innodb_buffer_pool_read_requests 13981311 7009042\n",
      "innodb_buffer_pool_bytes_data 40648704 15826944\n",
      "innodb_data_read 33837568 14864896\n",
      "innodb_rows_inserted 26446 2115\n",
      "qcache_not_cached 412286 209072\n",
      "opened_files 243 127\n",
      "innodb_data_reads 2106 931\n",
      "innodb_num_open_files 37 20\n",
      "innodb_dblwr_writes 0 52\n",
      "innodb_os_log_fsyncs 4243 2135\n",
      "innodb_buffer_pool_pages_free 259592 7189\n",
      "innodb_log_writes 4218 2124\n",
      "innodb_rows_read 3909165 1983195\n",
      "table_locks_immediate 16 2\n",
      "innodb_data_writes 5329 2376\n",
      "innodb_pages_created 421 64\n",
      "innodb_buffer_pool_pages_total 262112 8191\n",
      "connections 96 5\n",
      "innodb_pages_read 2060 902\n",
      "innodb_buffer_pool_pages_misc 39 36\n",
      "threads_cached 8 0\n",
      "innodb_buffer_pool_pages_dirty 167 161\n",
      "innodb_buffer_pool_pages_flushed 977 160\n",
      "innodb_buffer_pool_write_requests 95873 11475\n",
      "bytes_sent 19778 19752\n",
      "innodb_pages_written 977 160\n",
      "uptime 4050 225\n",
      "open_table_definitions 104 102\n"
     ]
    }
   ],
   "source": [
    "import json\n",
    "\n",
    "with open(\"../result/twitter_2022-12-10_16-09-56.metrics.json\", 'r') as f:\n",
    "    data1 = json.load(f)\n",
    "with open(\"../result/twitter_2022-12-10_17-09-10.metrics.json\", 'r') as f:\n",
    "    data2 = json.load(f)\n",
    "\n",
    "for key in data1.keys():\n",
    "    if data1[key].isdigit() and data1[key] != data2[key]:\n",
    "        print(key, data1[key], data2[key])"
   ]
  },
  {
   "cell_type": "code",
   "execution_count": null,
   "metadata": {},
   "outputs": [],
   "source": []
  }
 ],
 "metadata": {
  "kernelspec": {
   "display_name": "Python 3.7.15 ('KnobTuning': conda)",
   "language": "python",
   "name": "python3"
  },
  "language_info": {
   "codemirror_mode": {
    "name": "ipython",
    "version": 3
   },
   "file_extension": ".py",
   "mimetype": "text/x-python",
   "name": "python",
   "nbconvert_exporter": "python",
   "pygments_lexer": "ipython3",
   "version": "3.7.15"
  },
  "orig_nbformat": 4,
  "vscode": {
   "interpreter": {
    "hash": "b75ed7e7fa14d4f87059500ec975c38b82c1179e4c5b2926a872982b7fff3eec"
   }
  }
 },
 "nbformat": 4,
 "nbformat_minor": 2
}
